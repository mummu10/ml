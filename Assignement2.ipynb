{
 "cells": [
  {
   "cell_type": "code",
   "execution_count": 7,
   "metadata": {},
   "outputs": [
    {
     "data": {
      "text/plain": [
       "47"
      ]
     },
     "execution_count": 7,
     "metadata": {},
     "output_type": "execute_result"
    }
   ],
   "source": [
    "#1.1   \n",
    "#Write a Python Program to implement your own myreduce() function which works exactly like Python's built-in function reduce() \n",
    "\n",
    "#max_find = lambda a,b: a+b \n",
    "max_find = lambda a,b: a if (a > b) else b\n",
    "lst =[47,11,42,13]\n",
    "def myreduce(func, listt):\n",
    "    cal =listt[0]\n",
    "    for list in listt[1:]:\n",
    "        cal = func(cal,list)\n",
    "    return cal\n",
    "\n",
    "\n",
    "myreduce(max_find,lst)\n",
    "\n"
   ]
  },
  {
   "cell_type": "code",
   "execution_count": 17,
   "metadata": {},
   "outputs": [
    {
     "data": {
      "text/plain": [
       "[2, 4, 6, 8]"
      ]
     },
     "execution_count": 17,
     "metadata": {},
     "output_type": "execute_result"
    }
   ],
   "source": [
    "#1.2\n",
    "#Write a Python program to implement your own myfilter() function which works exactly like Python's built-in function filter() \n",
    "\n",
    "def even_check(num):\n",
    "    if num%2 ==0:\n",
    "        return True\n",
    "    else:\n",
    "        return False\n",
    "    \n",
    "\n",
    "def myfilter(func,listt):\n",
    "    list_fil =[]\n",
    "    for i in lst[0:]:\n",
    "        if func(i):\n",
    "            list_fil.append(i)\n",
    "    return list_fil\n",
    "    \n",
    "\n",
    "lst =[1,2,3,4,5,6,7,8]\n",
    "myfilter(even_check,lst)"
   ]
  },
  {
   "cell_type": "code",
   "execution_count": null,
   "metadata": {},
   "outputs": [],
   "source": []
  },
  {
   "cell_type": "code",
   "execution_count": 92,
   "metadata": {},
   "outputs": [
    {
     "name": "stdout",
     "output_type": "stream",
     "text": [
      "['A', 'C', 'A', 'D', 'G', 'I', 'L', 'D']\n"
     ]
    }
   ],
   "source": [
    "#2.  \n",
    "#Implement List comprehensions to produce the following lists.\n",
    "\n",
    "list_value ='ACADGILD'\n",
    "list_comp = [x for x in list_value if x !='']\n",
    "print(list_comp)\n"
   ]
  },
  {
   "cell_type": "code",
   "execution_count": 126,
   "metadata": {},
   "outputs": [
    {
     "name": "stdout",
     "output_type": "stream",
     "text": [
      "['x', 'xx', 'xxx', 'xxxx', 'y', 'yy', 'yyy', 'yyyy', 'z', 'zz', 'zzz', 'zzzz']\n"
     ]
    }
   ],
   "source": [
    "list_value = [\"x\",\"y\",'z']\n",
    "\"\"\"lst=[]\n",
    "for val in list_value:\n",
    "        for i in range(1,5):\n",
    "            x=val*i\n",
    "            lst.append(x)\n",
    "print(lst)  \"\"\"\n",
    "\n",
    "lst = [ val*i for val in list_value for i in range(1,5) ]\n",
    "print(lst)"
   ]
  },
  {
   "cell_type": "code",
   "execution_count": 133,
   "metadata": {},
   "outputs": [
    {
     "name": "stdout",
     "output_type": "stream",
     "text": [
      "['x', 'y', 'z', 'xx', 'yy', 'zz', 'xxx', 'yyy', 'zzz', 'xxxx', 'yyyy', 'zzzz']\n"
     ]
    }
   ],
   "source": [
    "list_value = [\"x\",\"y\",\"z\"]\n",
    "\n",
    "\"\"\"lst = []\n",
    "for val in range(1,5):\n",
    "    for i in list_value:\n",
    "        print(i*val)\n",
    "        lst.append(i*val)\n",
    "print(lst)  \"\"\"\n",
    "\n",
    "list_comp =[val*i  for val in range(1,5) for i in list_value]\n",
    "print(list_comp)\n",
    "\n",
    "\n"
   ]
  },
  {
   "cell_type": "code",
   "execution_count": 118,
   "metadata": {},
   "outputs": [
    {
     "name": "stdout",
     "output_type": "stream",
     "text": [
      "['[2]', '[3]', '[4]', '[3]', '[4]', '[5]', '[4]', '[5]', '[6]']\n",
      "[[2], [3], [4], [3], [4], [5], [4], [5], [6]]\n"
     ]
    }
   ],
   "source": [
    "listt = [2,3,4]\n",
    "x =[]\n",
    "for val in listt:\n",
    "    for i in range(0,3):\n",
    "        #print({0} {1} {2}.format('[',val+i,']')\n",
    "        y=val+i\n",
    "        y=\"[\"+ str(y)+\"]\"\n",
    "        x.append(y)\n",
    "print(x)\n",
    "\n",
    "list_c = [ [val+i] for val in listt for i in range(0,3)]\n",
    "print(list_c)        \n",
    "       \n"
   ]
  },
  {
   "cell_type": "code",
   "execution_count": 127,
   "metadata": {},
   "outputs": [
    {
     "name": "stdout",
     "output_type": "stream",
     "text": [
      "2,3,4,5[None]\n",
      "3,4,5,6[None, None]\n",
      "4,5,6,7[None, None, None]\n",
      "5,6,7,8[None, None, None, None]\n",
      "[[2, 3, 4, 5], [3, 4, 5, 6], [4, 5, 6, 7], [5, 6, 7, 8]]\n"
     ]
    }
   ],
   "source": [
    "listt = [2,3,4,5]\n",
    "x =[]\n",
    "y =[]\n",
    "for val in listt:\n",
    "    for i in range(0,4):\n",
    "        if i ==3 :\n",
    "            y= print(val+i,end=\"\")\n",
    "        else:\n",
    "            y=print(val+i, end=\",\")\n",
    "            #y = str(val+i) +','\n",
    "    x.append(y)\n",
    "    #print('',end =none)\n",
    "    print(x) \n",
    "    \n",
    "list_app = [ [val+i for val in listt] for i in range(0,4) ]\n",
    "print(list_app)"
   ]
  },
  {
   "cell_type": "code",
   "execution_count": 142,
   "metadata": {},
   "outputs": [
    {
     "name": "stdout",
     "output_type": "stream",
     "text": [
      "(1, 1)\n",
      "(2, 1)\n",
      "(3, 1)\n",
      "(1, 2)\n",
      "(2, 2)\n",
      "(3, 2)\n",
      "(1, 3)\n",
      "(2, 3)\n",
      "(3, 3)\n"
     ]
    }
   ],
   "source": [
    "listt = [1,2,3]\n",
    "x=[]\n",
    "for val in listt:\n",
    "    for i in listt:\n",
    "        x=(i,val)\n",
    "        print(x)\n",
    "    \n"
   ]
  },
  {
   "cell_type": "code",
   "execution_count": 46,
   "metadata": {},
   "outputs": [
    {
     "data": {
      "text/plain": [
       "'mumtaz ahmed'"
      ]
     },
     "execution_count": 46,
     "metadata": {},
     "output_type": "execute_result"
    }
   ],
   "source": [
    "#3.  \n",
    "#Implement a function longestWord() that takes a list of words and returns the longest one. \n",
    "\n",
    "def longestword(strng):\n",
    "    a = len(strng[0])\n",
    "    val = strng[0]\n",
    "    #print(val)\n",
    "    for i in strng[1:]:\n",
    "        len_count = len(i)\n",
    "        if a < len_count:\n",
    "            a=len_count\n",
    "            val =i\n",
    "            #if length is equal to the longest then add this word as well\n",
    "        elif a == len_count:\n",
    "            a=len_count\n",
    "            val =val+','+i\n",
    "            \n",
    "    return val\n",
    "\n",
    "\n",
    "lis=[\"man\",\"jave\",\"mumtaz ahmed\",'radhee','jameen',\"manu\"]\n",
    "longestword(lis)\n",
    "            \n",
    "    "
   ]
  },
  {
   "cell_type": "code",
   "execution_count": 91,
   "metadata": {},
   "outputs": [
    {
     "name": "stdout",
     "output_type": "stream",
     "text": [
      " please enter a3\n",
      " please enter b5\n",
      " please enter c3\n",
      "11\n",
      "5.5\n"
     ]
    },
    {
     "data": {
      "text/plain": [
       "4.14578098794425"
      ]
     },
     "execution_count": 91,
     "metadata": {},
     "output_type": "execute_result"
    }
   ],
   "source": [
    "#1.1  \n",
    "#Write a Python Program(with class concepts) to find the area of the triangle using the below formula. \n",
    " \n",
    "class abc:\n",
    "    def __init__(self,a,b,c):\n",
    "        self.a = int(input (\" please enter a :\"))\n",
    "        self.b = int(input (\" please enter b :\"))\n",
    "        self.c = int(input (\" please enter c :\"))\n",
    "\n",
    "class B(abc):\n",
    "    def __init__(self, *args):\n",
    "        super(B,self).__init__(*args)\n",
    "    \n",
    "    def cal_trangle(self):\n",
    "        s = int(self.a + self.b + self.c) /2\n",
    "        print(s)\n",
    "        area = (s*(s - self.a)*(s - self.b)*(s - self.c)) ** 0.5 \n",
    "        return(area)\n",
    "        \n",
    "x = B(10,20,30)\n",
    "print(x.a+ x.b+x.c)\n",
    "x.cal_trangle()\n"
   ]
  },
  {
   "cell_type": "code",
   "execution_count": 76,
   "metadata": {},
   "outputs": [
    {
     "name": "stdout",
     "output_type": "stream",
     "text": [
      "30.0\n",
      "0.0\n"
     ]
    }
   ],
   "source": []
  },
  {
   "cell_type": "code",
   "execution_count": 40,
   "metadata": {},
   "outputs": [
    {
     "data": {
      "text/plain": [
       "['ahmed', 'mumtaz', 'Ramesh', 'Manish', 'subramanyam']"
      ]
     },
     "execution_count": 40,
     "metadata": {},
     "output_type": "execute_result"
    }
   ],
   "source": [
    "# 1.2 \n",
    "#Write a function filter_long_words() that takes a list of words and an integer n and returns the list of words that are longer than n.\n",
    "\n",
    "\n",
    "def filter_long_words(listt,int_val):\n",
    "    list_result = []\n",
    "    for val in listt[0:]:\n",
    "        word_len = len(val)\n",
    "        if word_len > int_val:\n",
    "            list_result.append(val)\n",
    "            \n",
    "    return list_result\n",
    "\n",
    "lst = [\"ahmed\",\"mumtaz\",\"Raju\", \"Ramesh\",\"Manish\",\"subramanyam\"]\n",
    "filter_long_words(lst,4)\n",
    "\n",
    "\n"
   ]
  },
  {
   "cell_type": "code",
   "execution_count": 43,
   "metadata": {},
   "outputs": [
    {
     "data": {
      "text/plain": [
       "[3, 3, 5, 4, 7]"
      ]
     },
     "execution_count": 43,
     "metadata": {},
     "output_type": "execute_result"
    }
   ],
   "source": [
    "#2.1 \n",
    "#Write a Python program using function concept that maps  list of words into a list of integers representing the lengths of the corresponding words​.\n",
    "\n",
    "def int_out(list_val):\n",
    "    list_result =[]\n",
    "    for i in list_val[0:]:\n",
    "        list_result.append(len(i))\n",
    "    return list_result\n",
    "        \n",
    "lst = [\"one\",\"two\",\"three\",\"four\",\"January\"]\n",
    "int_out(lst)"
   ]
  },
  {
   "cell_type": "code",
   "execution_count": 45,
   "metadata": {},
   "outputs": [
    {
     "data": {
      "text/plain": [
       "False"
      ]
     },
     "execution_count": 45,
     "metadata": {},
     "output_type": "execute_result"
    }
   ],
   "source": [
    "#2.2\n",
    "#Write a Python function which takes a character (i.e. a string of length 1) and returns True if it is a vowel, False otherwise.\n",
    "\n",
    "def vowel_return(car):\n",
    "    if car in ('a','i','o','u','e'):\n",
    "        return True\n",
    "    else:\n",
    "        return False\n",
    "\n",
    "\n",
    "vowel_return('x')\n"
   ]
  }
 ],
 "metadata": {
  "kernelspec": {
   "display_name": "Python 3",
   "language": "python",
   "name": "python3"
  }
 },
 "nbformat": 4,
 "nbformat_minor": 2
}
